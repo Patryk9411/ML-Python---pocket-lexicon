{
 "cells": [
  {
   "cell_type": "code",
   "execution_count": 4,
   "id": "2bce7504-3e7a-45e5-9771-1c3285a4f6b3",
   "metadata": {},
   "outputs": [],
   "source": [
    "import shutil\n",
    "\n",
    "shutil.rmtree('ML_Python-pocket_lexicon')"
   ]
  },
  {
   "cell_type": "code",
   "execution_count": null,
   "id": "222e0b08-ca06-4c9e-b679-cc17a169fb2b",
   "metadata": {},
   "outputs": [],
   "source": []
  }
 ],
 "metadata": {
  "kernelspec": {
   "display_name": "Python 3 (ipykernel)",
   "language": "python",
   "name": "python3"
  },
  "language_info": {
   "codemirror_mode": {
    "name": "ipython",
    "version": 3
   },
   "file_extension": ".py",
   "mimetype": "text/x-python",
   "name": "python",
   "nbconvert_exporter": "python",
   "pygments_lexer": "ipython3",
   "version": "3.7.12"
  }
 },
 "nbformat": 4,
 "nbformat_minor": 5
}
